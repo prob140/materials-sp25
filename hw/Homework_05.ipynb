{
 "cells": [
  {
   "cell_type": "markdown",
   "metadata": {
    "#question": false,
    "#solution": false,
    "#staff": false,
    "#student": false
   },
   "source": [
    "<table align=\"left\" style=\"border-style: hidden\" class=\"table\"> <tr><td class=\"col-md-2\"><img style=\"float: left; width: 200px; height: 200px;\" src=\"../logo.png\" alt=\"Data 140 Logo\" style=\"width: 120px;\"/></td><td><div align=\"left\"><h3 style=\"margin-top: 0;\">Probability for Data Science</h3><h4 style=\"margin-top: 20px;\">UC Berkeley, Spring 2025</h4><p>Michael Xiao and Ani Adhikari</p>CC BY-NC-SA 4.0</div></td></tr></table><!-- not in pdf -->\n",
    "\n",
    "This content is protected and may not be shared, uploaded, or distributed."
   ]
  },
  {
   "cell_type": "markdown",
   "metadata": {
    "#question": false,
    "#solution": false,
    "#staff": false,
    "#student": false
   },
   "source": [
    "# Homework 5 (Due Monday, February 24th at 5 PM) #"
   ]
  },
  {
   "cell_type": "markdown",
   "metadata": {
    "#question": false,
    "#solution": false,
    "#staff": false,
    "#student": true
   },
   "source": [
    "### Instructions\n",
    "\n",
    "Your homeworks will generally have two components: a written portion and a portion that also involves code.  Written work should be completed on paper, and coding questions should be done in the notebook. Start the work for the written portions of each section on a new page. You are welcome to $\\LaTeX$ your answers to the written portions, but staff will not be able to assist you with $\\LaTeX$ related issues. \n",
    "\n",
    "It is your responsibility to ensure that both components of the homework are submitted completely and properly to Gradescope. **Make sure to assign each page of your pdf to the correct question. Refer to the bottom of the notebook for submission instructions.**"
   ]
  },
  {
   "cell_type": "markdown",
   "metadata": {
    "#question": false,
    "#solution": false,
    "#staff": false,
    "#student": true
   },
   "source": [
    "### How to Do Your Homework ###\n",
    "The point of homework is for you to try your hand at using what you've learned in class. The steps to follow:\n",
    "\n",
    "- Go to lecture and sections, and also go over the relevant text sections before starting on the homework. This will remind you what was covered in class, and the text will typically contain examples not covered in lecture. The weekly Study Guide will list what you should read.\n",
    "- Work on some of the practice problems before starting on the homework.\n",
    "- Attempt the homework problems by yourself with the text, section work, and practice materials all at hand. Sometimes the week's lab will help as well. The two steps above will help this step go faster and be more fruitful.\n",
    "- At this point, seek help if you need it. Don't ask how to do the problem — ask how to get started, or for a nudge to get you past where you are stuck. Always say what you have already tried. That helps us help you more effectively.\n",
    "- For a good measure of your understanding, keep track of the fraction of the homework you can do by yourself or with minimal help. It's a better measure than your homework score, and only you can measure it."
   ]
  },
  {
   "cell_type": "markdown",
   "metadata": {
    "#question": false,
    "#solution": false,
    "#staff": false,
    "#student": true
   },
   "source": [
    "### Rules for Homework ###\n",
    "- Every answer should contain a calculation or reasoning. For example, a calculation such as $(1/3)(0.8) + (2/3)(0.7)$ or `sum([(1/3)*0.8, (2/3)*0.7])`is fine without further explanation or simplification. If we want you to simplify, we'll ask you to. But just ${5 \\choose 2}$ by itself is not fine; write \"we want any 2 out of the 5 frogs and they can appear in any order\" or whatever reasoning you used. Reasoning can be brief and abbreviated, e.g. \"product rule\" or \"not mutually exclusive.\"\n",
    "- You may consult others (see \"How to Do Your Homework\" above) but you must write up your own answers using your own words, notation, and sequence of steps.\n",
    "- We'll be using Gradescope. You must submit the homework according to the instructions at the end of homework set."
   ]
  },
  {
   "cell_type": "markdown",
   "metadata": {
    "#question": false,
    "#solution": false,
    "#staff": false,
    "#student": true
   },
   "source": [
    "## **We will not grade assignments which do not have pages selected for each question.** ##"
   ]
  },
  {
   "cell_type": "markdown",
   "metadata": {
    "#question": false,
    "#solution": false,
    "#staff": false,
    "#student": false
   },
   "source": [
    "\\newpage"
   ]
  },
  {
   "cell_type": "markdown",
   "metadata": {
    "#question": true,
    "#solution": false,
    "#staff": false,
    "#student": false
   },
   "source": [
    "## 1. Winning Color ##\n",
    "In a population, the proportion of red elements is $p_r$, the proportion of blue elements is $p_b$, the proportion of green elements is $p_g$, and $p_r + p_b + p_g = 1$.\n",
    "\n",
    "In each part below, set $x$ equal to the quantity that you are trying to find, and develop an equation for $x$ by conditioning on the first couple of draws. Try to write the simplest equation you can. Then solve for $x$.\n",
    "\n",
    "**Do not use any other method. The point of this exercise is for you to learn how to use the method outlined above. It's almost certainly going to be shorter than any other correct method.**\n",
    "\n",
    "**a)** Alan draws repeatedly at random with replacement from the population, betting that the color red will appear before the color blue. Find the chance that he wins his bet. Your final answer should be in terms of $p_r$ and $p_b$ only, and you should aim for the simplest possible form.\n",
    "\n",
    "**b)** The answer to **a** can be applied in any situation where there are i.i.d. multinomial trials. For example, suppose a die is rolled repeatedly. Use your answer to Part **a** to find the chance that the face with one spot appears before all the faces that have an even number of spots.\n",
    "\n",
    "**c)** Now suppose Alan plays the following game with Katherine. They draw alternately at random with replacement from the population, with Alan drawing first. Alan wins if he draws red before Katherine has drawn blue. Katherine wins if she draws blue before Alan has drawn red. Find the chance that Alan wins the game. To keep your expressions simple, use the notation $q_r = 1-p_r$ and $q_b = 1 - p_b$.\n",
    "\n",
    "**d)** Find the expected duration of the game in Part **c**. That is, find the expected number of draws till there is a winner."
   ]
  },
  {
   "cell_type": "markdown",
   "metadata": {
    "#question": false,
    "#solution": false,
    "#staff": false,
    "#student": false
   },
   "source": [
    "\\newpage"
   ]
  },
  {
   "cell_type": "markdown",
   "metadata": {
    "#question": true,
    "#solution": false,
    "#staff": false,
    "#student": false
   },
   "source": [
    "## 2. Sausage Chain ##\n",
    "\n",
    "Let $X_0, X_1, X_2, \\ldots$ be a Markov Chain that has state space $\\{1, 2, 3, 4, 5\\}$ and one-step transition probabilities given by\n",
    "\n",
    "$$\n",
    "P(1, 2) ~ = ~ 1 ~ = ~ P(5, 4)\n",
    "$$\n",
    "and for $2 \\le i \\le 4$,\n",
    "$$\n",
    "P(i, j) ~ = ~ \n",
    "\\begin{cases}\n",
    "\\frac{1}{3} ~~ \\text{ if } j = i+1 \\\\\n",
    "\\frac{1}{3} ~~ \\text{ if } j = i \\\\\n",
    "\\frac{1}{3} ~~ \\text{ if } j = i-1 \\\\\n",
    "\\end{cases}\n",
    "$$\n",
    "\n",
    "**a)** Is there a probability distribution that satisfies the detailed balance equations for this chain? Why or why not?\n",
    "\n",
    "**b)** Find the stationary distribution of the chain.\n",
    "\n",
    "**c)** Find an approximate numerical value of $P(X_{1000} = 4 \\mid X_0 = 3)$."
   ]
  },
  {
   "cell_type": "markdown",
   "metadata": {
    "#question": false,
    "#solution": false,
    "#staff": false,
    "#student": false
   },
   "source": [
    "\\newpage"
   ]
  },
  {
   "cell_type": "markdown",
   "metadata": {
    "#question": true,
    "#solution": false,
    "#staff": false,
    "#student": false
   },
   "source": [
    "## 3. \"Move to Front\" Permutations ##\n",
    "\n",
    "Consider an alphabet of length $N$. A move-to-front permutation of the $N$ letters consists of picking one of the letters (randomly or otherwise) and moving it to the front of the list. \n",
    "\n",
    "For example, if the alphabet consists of the three letters A, B, and C, and you start with the permutation ABC, then CAB is the result of one move-to-front (the chosen letter is C), as is ABC (the chosen letter is A), but not CBA.\n",
    "\n",
    "**a)** As a preliminary, recall that all transition matrices are stochastic; that is, each row sums to 1. Suppose the transition matrix of a finite-state, irreducible, aperiodic chain is doubly stochastic; that is, each of its columns also sums to 1. Explain why the stationary distribution must be uniform.\n",
    "\n",
    "**b)** A standard deck consists of 52 cards. A “random to front” shuffle is defined as follows: Pick one of the 52 cards uniformly at random and move it to the front of the deck (which you are welcome to think of as the top of the deck, if you prefer). Explain why if you perform this move over and over again, in the long run the deck will become well shuffled; that is, all permutations will be equally likely. [Hint: Set up an appropriate chain and use Part **a**. You might want to try it out first with an alphabet of just the letters A, B, and C.]"
   ]
  },
  {
   "cell_type": "markdown",
   "metadata": {
    "#question": false,
    "#solution": false,
    "#staff": false,
    "#student": false
   },
   "source": [
    "\\newpage"
   ]
  },
  {
   "cell_type": "markdown",
   "metadata": {
    "#question": false,
    "#solution": false,
    "#staff": false,
    "#student": true
   },
   "source": [
    "## Submission Instructions ##\n",
    "\n",
    "Many assignments throughout the course will have a written portion and a code portion. Please follow the directions below to properly submit both portions.\n",
    "\n",
    "### Written Portion ###\n",
    "*  Scan all the pages into a PDF. You can use any scanner or a phone using applications such as CamScanner. Please **DO NOT** simply take pictures using your phone. \n",
    "* Please start a new page for each question. If you have already written multiple questions on the same page, you can crop the image in CamScanner or fold your page over (the old-fashioned way). This helps expedite grading.\n",
    "* It is your responsibility to check that all the work on all the scanned pages is legible.\n",
    "* If you used $\\LaTeX$ to do the written portions, you do not need to do any scanning; you can just download the whole notebook as a PDF via LaTeX.\n",
    "\n",
    "### Code Portion ###\n",
    "* Save your notebook using `File > Save Notebook`.\n",
    "* Generate a PDF file using `File > Save and Export Notebook As > PDF`. This might take a few seconds and will automatically download a PDF version of this notebook.\n",
    "    * If you have issues, please post a follow-up on the general Homework 5 Ed thread.\n",
    "    \n",
    "### Submitting ###\n",
    "* Combine the PDFs from the written and code portions into one PDF. [Here](https://smallpdf.com/merge-pdf) is a useful tool for doing so. \n",
    "* Submit the assignment to Homework 5 on Gradescope. \n",
    "* **Make sure to assign each page of your pdf to the correct question.**\n",
    "* **It is your responsibility to verify that all of your work shows up in your final PDF submission.**\n",
    "\n",
    "If you are having difficulties scanning, uploading, or submitting your work, please read the [Ed Thread](https://edstem.org/us/courses/74394/discussion/6005296) on this topic and post a follow-up on the general Homework 5 Ed thread.\n",
    "\n",
    "## **We will not grade assignments which do not have pages selected for each question.** ##"
   ]
  }
 ],
 "metadata": {
  "checksums": [
   "c25cbc8f297629ccc18d96154b8c28d9",
   "1c463ec73c040ab76831bdc6d59e69dc",
   "024dbc638596e7796117dc407fe24b3f",
   "e8b146b4314b9ff8608529b2cf2e2d0e",
   "5e382e32f1416ebdbc3411b88ff3b874",
   "28b84f784840e42a5b8327aab8f973c0",
   "562505d567faf02dfc9388e81e89d07b",
   "6887d983bd9696f4615e6b33f046d304",
   "562505d567faf02dfc9388e81e89d07b",
   "e9e694755249a8257b1f9361a7e68be6",
   "562505d567faf02dfc9388e81e89d07b",
   "91a4250ef965971ac5b63e987460d339",
   "562505d567faf02dfc9388e81e89d07b",
   "e47d92bf7efad0a2f3a3a1fa6a8e2cb5"
  ],
  "kernelspec": {
   "display_name": "Python 3 (ipykernel)",
   "language": "python",
   "name": "python3"
  },
  "language_info": {
   "codemirror_mode": {
    "name": "ipython",
    "version": 3
   },
   "file_extension": ".py",
   "mimetype": "text/x-python",
   "name": "python",
   "nbconvert_exporter": "python",
   "pygments_lexer": "ipython3",
   "version": "3.11.11"
  },
  "number_of_pagebreaks": 0
 },
 "nbformat": 4,
 "nbformat_minor": 4
}
