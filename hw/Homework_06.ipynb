{
 "cells": [
  {
   "cell_type": "markdown",
   "id": "4ecedf1f-5d86-4680-8026-9e5231c5fb6a",
   "metadata": {
    "#question": false,
    "#solution": false,
    "#staff": false,
    "#student": false
   },
   "source": [
    "<table align=\"left\" style=\"border-style: hidden\" class=\"table\"> <tr><td class=\"col-md-2\"><img style=\"float: left; width: 200px; height: 200px;\" src=\"../logo.png\" alt=\"Data 140 Logo\" style=\"width: 120px;\"/></td><td><div align=\"left\"><h3 style=\"margin-top: 0;\">Probability for Data Science</h3><h4 style=\"margin-top: 20px;\">UC Berkeley, Spring 2025</h4><p>Michael Xiao and Ani Adhikari</p>CC BY-NC-SA 4.0</div></td></tr></table><!-- not in pdf -->\n",
    "\n",
    "This content is protected and may not be shared, uploaded, or distributed."
   ]
  },
  {
   "cell_type": "markdown",
   "id": "26e565e8-bb7b-4022-9ac3-362768fa07b3",
   "metadata": {
    "#question": false,
    "#solution": false,
    "#staff": false,
    "#student": false
   },
   "source": [
    "# Homework 6 (Due March 3rd at 5 PM) #"
   ]
  },
  {
   "cell_type": "markdown",
   "id": "9bbd47c7-034c-43c8-9df1-575d84510372",
   "metadata": {
    "#question": false,
    "#solution": false,
    "#staff": false,
    "#student": true
   },
   "source": [
    "### Instructions\n",
    "\n",
    "Your homeworks will generally have two components: a written portion and a portion that also involves code.  Written work should be completed on paper, and coding questions should be done in the notebook. Start the work for the written portions of each section on a new page. You are welcome to $\\LaTeX$ your answers to the written portions, but staff will not be able to assist you with $\\LaTeX$ related issues. \n",
    "\n",
    "It is your responsibility to ensure that both components of the homework are submitted completely and properly to Gradescope. **Make sure to assign each page of your pdf to the correct question. Refer to the bottom of the notebook for submission instructions.**"
   ]
  },
  {
   "cell_type": "markdown",
   "id": "e1b3a56c-3e55-441b-99c2-c21fa1cd36b1",
   "metadata": {
    "#question": false,
    "#solution": false,
    "#staff": false,
    "#student": true
   },
   "source": [
    "### How to Do Your Homework ###\n",
    "The point of homework is for you to try your hand at using what you've learned in class. The steps to follow:\n",
    "\n",
    "- Go to lecture and sections, and also go over the relevant text sections before starting on the homework. This will remind you what was covered in class, and the text will typically contain examples not covered in lecture. The weekly Study Guide will list what you should read.\n",
    "- Work on some of the practice problems before starting on the homework.\n",
    "- Attempt the homework problems by yourself with the text, section work, and practice materials all at hand. Sometimes the week's lab will help as well. The two steps above will help this step go faster and be more fruitful.\n",
    "- At this point, seek help if you need it. Don't ask how to do the problem — ask how to get started, or for a nudge to get you past where you are stuck. Always say what you have already tried. That helps us help you more effectively.\n",
    "- For a good measure of your understanding, keep track of the fraction of the homework you can do by yourself or with minimal help. It's a better measure than your homework score, and only you can measure it."
   ]
  },
  {
   "cell_type": "markdown",
   "id": "087a6ac4-0cbb-46c1-a5fd-49b20390da16",
   "metadata": {
    "#question": false,
    "#solution": false,
    "#staff": false,
    "#student": true
   },
   "source": [
    "### Rules for Homework ###\n",
    "- Every answer should contain a calculation or reasoning. For example, a calculation such as $(1/3)(0.8) + (2/3)(0.7)$ or `sum([(1/3)*0.8, (2/3)*0.7])`is fine without further explanation or simplification. If we want you to simplify, we'll ask you to. But just ${5 \\choose 2}$ by itself is not fine; write \"we want any 2 out of the 5 frogs and they can appear in any order\" or whatever reasoning you used. Reasoning can be brief and abbreviated, e.g. \"product rule\" or \"not mutually exclusive.\"\n",
    "- You may consult others (see \"How to Do Your Homework\" above) but you must write up your own answers using your own words, notation, and sequence of steps.\n",
    "- We'll be using Gradescope. You must submit the homework according to the instructions at the end of homework set."
   ]
  },
  {
   "cell_type": "markdown",
   "id": "37ef1b71-d5b1-4f15-924a-32168f584c0b",
   "metadata": {
    "#question": false,
    "#solution": false,
    "#staff": false,
    "#student": true
   },
   "source": [
    "## **We will not grade assignments which do not have pages selected for each question.** ##"
   ]
  },
  {
   "cell_type": "markdown",
   "id": "76c68e1c-5b8c-45d0-b151-6c2bf9116951",
   "metadata": {
    "#question": false,
    "#solution": false,
    "#staff": false,
    "#student": false
   },
   "source": [
    "\\newpage"
   ]
  },
  {
   "cell_type": "markdown",
   "id": "ba5e0488-4285-47b5-acfc-6e7715205f02",
   "metadata": {
    "#question": true,
    "#solution": false,
    "#staff": false,
    "#student": false
   },
   "source": [
    "## 1. Switching Chain ##\n",
    "Consider a Markov Chain $X_0, X_1, \\ldots$ with the transition matrix given below, for some $0 < p < 1$ and $q = 1-p$.\n",
    "\n",
    "| **States**| $~~0~~$ | $~~1~~$ |\n",
    "|-----|-----|-----|\n",
    "| $~~0~~$ | $~~p~~$ | $~~q~~$ |\n",
    "| $~~1~~$ | $~~q~~$ | $~~p~~$ |\n",
    "\n",
    "**a)** Explain why this chain is irreducible and aperiodic.\n",
    "\n",
    "**b)** For $n \\ge 1$, let $C_n$ be the number of *switches* up to time $n$. That is, $C_n$ is the number of times the chain changes state up to and including time $n$. For example, if the path is $0 0 0 1 0 0 0 1 1$, then $C_8 = 3$ (remember that the path starts at $X_0$). What is the distribution of $C_n$, and why?\n",
    "\n",
    "**c)** In the path $010100$, $X_0 = 0$ and $X_5 = 0$, so there is a $0 \\to 0$ transition in 5 steps. Find the value of $C_5$ for this path; you don't have to turn it in. For your own understanding, create several more examples of $0 \\to 0$ transitions for different values of $n$, and find the value of $C_n$ in each of your examples. There are already some more examples in the given path $010100$. For example the initial segment $010$ is a $0 \\to 0$ transition in 2 steps.\n",
    "\n",
    "Think about what is common to the values of $C_n$ that you found in your examples. Now fill in the blank with a word, and **justify your answer**. \n",
    "\n",
    "For $n \\ge 1$, \n",
    "$$\n",
    "P_n(0, 0) ~ = ~ P(C_n \\text{ is } \\underline{ ~~~~~~~~~~~~~~~ })\n",
    "$$\n",
    "\n",
    "**d)** Now find $P_n(0, 0)$ using Part **b**. [Hint: Compare the expansions of $(p+q)^n$ and $(p-q)^n$. How can you use both of them to get just the terms that you need?] \n",
    "\n",
    "**e)** Use Part **d** **(NOT THE BALANCE EQUATIONS)** to find the stationary distribution of the chain. This will give you a complete proof of the stationary distribution in this case, whereas our general discussion of the balance equations relies on your acceptance of the main [convergence theorem](http://prob140.org/textbook/content/Chapter_10/03_Long_Run_Behavior.html#convergence-to-stationarity) without proof."
   ]
  },
  {
   "cell_type": "markdown",
   "id": "46c6d61b-a679-456f-9fb1-fc7b9a0f3406",
   "metadata": {
    "#question": false,
    "#solution": false,
    "#staff": false,
    "#student": false
   },
   "source": [
    "\\newpage"
   ]
  },
  {
   "cell_type": "markdown",
   "id": "2e06a2dc-7709-470d-a031-2993f55971c2",
   "metadata": {
    "#question": true,
    "#solution": false,
    "#staff": false,
    "#student": false
   },
   "source": [
    "## 2. Social Network\n",
    "\n",
    "A social network consists of a finite set of members. Members $i$ and $j$ are said to be *linked* if either they are friends or they are *friends of friends* which is shown in an example and then formally defined below. \n",
    "\n",
    "As an example, here is a social network that has five members A, B, C, D, and E. Friends are any two members that are connected by one line segment. For example, A and B are friends, and C and E are friends. Member A has 3 friends; B, C and D have one friend each; and E has two friends. Members B and C aren't friends but they are linked by the sequence of friends BAEC.\n",
    "\n",
    "![undirected graph](hw6_q2_graph.png)\n",
    "\n",
    "Formally, Members $i$ and $j$ are linked if either they are friends or for some $n \\ge 1$ there are members $a_1, a_2, \\ldots, a_n$ such that Members $i$ and $a_1$ are friends, Members $a_1$ and $a_2$ are friends, Members $a_2$ and $a_3$ are friends, and so on, and Members $a_n$ and $j$ are friends.\n",
    "\n",
    "Consider a network of $m$ members. For $1 \\le i \\le m$ let $f_i$ be the number of friends of Member $i$, and assume that $f_a \\ne f_b$ for some members $a$ and $b$. Also assume that every member is linked to every other member.\n",
    "\n",
    "Let $X_0, X_1, X_2, \\ldots$ be a Markov Chain on the set of members, with transitions based on the following proposal scheme. Given that the chain is at Member $i$:\n",
    "\n",
    "- Select a friend uniformly at random from all of Member $i$'s friends.\n",
    " \n",
    "- If the selected friend is Member $j$, then:\n",
    "\n",
    "    - If $f_j \\le f_i$, move to $j$.\n",
    "\n",
    "    - If $f_j > f_i$, toss a coin that lands heads with chance $f_i / f_j$. If it lands heads, move to $j$. If it lands tails, stay at $i$.\n",
    "\n",
    "\n",
    "**a)** For states $i \\ne j$, find the one-step transition probability $P(i, j) = P(X_1 = j \\mid X_0=i)$.\n",
    "\n",
    "**b)** Briefly explain why the chain has a steady state distribution, and find that distribution. Identify it as one of the famous ones and provide its name and parameters."
   ]
  },
  {
   "cell_type": "markdown",
   "id": "26bc7a2d-3f01-4125-b083-1a8de4b83a9a",
   "metadata": {
    "#question": false,
    "#solution": false,
    "#staff": false,
    "#student": false
   },
   "source": [
    "\\newpage"
   ]
  },
  {
   "cell_type": "markdown",
   "id": "856ce3f4-3103-43cc-8545-cbfd5ffaa765",
   "metadata": {
    "#question": true,
    "#solution": false,
    "#staff": false,
    "#student": false
   },
   "source": [
    "## 3. Bounds ##\n",
    "A random variable $X$, not necessarily non-negative, has $E(X) = 20$ and $SD(X) = 4$. In each part below **find the best bounds you can** based on the information given.\n",
    "\n",
    "**a)** Find upper and lower bounds for $P(0 < X < 40)$.\n",
    "\n",
    "**b)** Find upper and lower bounds for $P(10 < X < 40)$.\n",
    "\n",
    "**c)** Find an upper bound for $P(X \\ge 40)$.\n",
    "\n",
    "**d)** Find an upper bound for $P(X^2 \\ge 900)$."
   ]
  },
  {
   "cell_type": "markdown",
   "id": "caa64baf-03f5-42c6-803b-5e58fcace80f",
   "metadata": {
    "#question": false,
    "#solution": false,
    "#staff": false,
    "#student": false
   },
   "source": [
    "\\newpage"
   ]
  },
  {
   "cell_type": "markdown",
   "id": "6fde8592-0e89-4d5a-bde0-c5998a862c6b",
   "metadata": {
    "#question": true,
    "#solution": false,
    "#staff": false,
    "#student": false
   },
   "source": [
    "## 4. Bias and Variance ##\n",
    "Consider a probabilistic model that has a numerical parameter $\\theta$. A \"probabilistic model\" is just a set of assumptions about randomness. Let the random variable $T$ be an estimator of $\\theta$. Frequently, $T$ is a statistic based on a random sample.\n",
    "\n",
    "The *bias* of $T$ is defined as\n",
    "\n",
    "$$\n",
    "B_\\theta (T) ~ = ~ E_\\theta (T) - \\theta,\n",
    "$$\n",
    "\n",
    "where the subscript $\\theta$ reminds us that $\\theta$ is the true value of the parameter. Note that $B_\\theta(T)$ is a real-valued function of $\\theta$, not a random variable.\n",
    "\n",
    "Recall that $T$ is an unbiased estimator of $\\theta$ if $E_\\theta(T) = \\theta$, that is, if $B_\\theta(T) = 0$. But in general, estimators are biased.\n",
    "\n",
    "The *mean squared error* of the estimator $T$ is\n",
    "\n",
    "$$\n",
    "MSE_\\theta (T) ~ = ~ E_\\theta \\big{(} (T - \\theta)^2 \\big{)}\n",
    "$$\n",
    "\n",
    "Follow the calculation in [Section 12.2](http://prob140.org/textbook/content/Chapter_12/02_Prediction_and_Estimation.html) of the textbook to show the *bias-variance decomposition* given by\n",
    "\n",
    "$$\n",
    "MSE_\\theta (T) ~ = ~ Var_\\theta(T) + B_\\theta^2(T)\n",
    "$$\n",
    "\n",
    "Note that the square in the bias term makes sense. Bias has the same units as $T$, whereas the MSE and variance are in the square of those units."
   ]
  },
  {
   "cell_type": "markdown",
   "id": "5d45c273-4ba2-41b7-b2da-9eefd2514ea0",
   "metadata": {
    "#question": false,
    "#solution": false,
    "#staff": false,
    "#student": true,
    "jp-MarkdownHeadingCollapsed": true
   },
   "source": [
    "## Submission Instructions ##\n",
    "\n",
    "Many assignments throughout the course will have a written portion and a code portion. Please follow the directions below to properly submit both portions.\n",
    "\n",
    "### Written Portion ###\n",
    "*  Scan all the pages into a PDF. You can use any scanner or a phone using applications such as CamScanner. Please **DO NOT** simply take pictures using your phone. \n",
    "* Please start a new page for each question. If you have already written multiple questions on the same page, you can crop the image in CamScanner or fold your page over (the old-fashioned way). This helps expedite grading.\n",
    "* It is your responsibility to check that all the work on all the scanned pages is legible.\n",
    "* If you used $\\LaTeX$ to do the written portions, you do not need to do any scanning; you can just download the whole notebook as a PDF via LaTeX.\n",
    "\n",
    "### Code Portion ###\n",
    "* Save your notebook using `File > Save Notebook`.\n",
    "* Generate a PDF file using `File > Save and Export Notebook As > PDF`. This might take a few seconds and will automatically download a PDF version of this notebook.\n",
    "    * If you have issues, please post a follow-up on the general Homework 6 Ed thread.\n",
    "    \n",
    "### Submitting ###\n",
    "* Combine the PDFs from the written and code portions into one PDF. [Here](https://smallpdf.com/merge-pdf) is a useful tool for doing so. \n",
    "* Submit the assignment to Homework 6 on Gradescope. \n",
    "* **Make sure to assign each page of your pdf to the correct question.**\n",
    "* **It is your responsibility to verify that all of your work shows up in your final PDF submission.**\n",
    "\n",
    "If you are having difficulties scanning, uploading, or submitting your work, please read the [Ed Thread](https://edstem.org/us/courses/74394/discussion/6005296) on this topic and post a follow-up on the general Homework 6 Ed thread."
   ]
  },
  {
   "cell_type": "markdown",
   "id": "31e48c4e-f347-460b-8f29-10e22b6568d5",
   "metadata": {
    "#question": false,
    "#solution": false,
    "#staff": false,
    "#student": true
   },
   "source": [
    "## **We will not grade assignments which do not have pages selected for each question.** ##"
   ]
  }
 ],
 "metadata": {
  "checksums": [
   "c25cbc8f297629ccc18d96154b8c28d9",
   "b78fd02167186ff4063b5edc5aa3e7f4",
   "b16136dce74f8ce981b93eebd5764010",
   "e8b146b4314b9ff8608529b2cf2e2d0e",
   "5e382e32f1416ebdbc3411b88ff3b874",
   "28b84f784840e42a5b8327aab8f973c0",
   "562505d567faf02dfc9388e81e89d07b",
   "9e93d3427e52d87272727f05ea2aee9d",
   "562505d567faf02dfc9388e81e89d07b",
   "6e07d5727ac4102d63c04c79cc6886f2",
   "562505d567faf02dfc9388e81e89d07b",
   "fbb6d1d2c2ef6495361143c8209ef77c",
   "562505d567faf02dfc9388e81e89d07b",
   "137722f35c5e17a2ad9ba2f6a43c9c9b",
   "0b1e2cfd8ad99b69bbeafd051b133e10",
   "28b84f784840e42a5b8327aab8f973c0"
  ],
  "kernelspec": {
   "display_name": "Python 3 (ipykernel)",
   "language": "python",
   "name": "python3"
  },
  "language_info": {
   "codemirror_mode": {
    "name": "ipython",
    "version": 3
   },
   "file_extension": ".py",
   "mimetype": "text/x-python",
   "name": "python",
   "nbconvert_exporter": "python",
   "pygments_lexer": "ipython3",
   "version": "3.11.11"
  },
  "number_of_pagebreaks": 0
 },
 "nbformat": 4,
 "nbformat_minor": 5
}
