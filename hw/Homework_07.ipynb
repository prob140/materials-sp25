{
 "cells": [
  {
   "cell_type": "markdown",
   "id": "4ecedf1f-5d86-4680-8026-9e5231c5fb6a",
   "metadata": {
    "#question": false,
    "#solution": false,
    "#staff": false,
    "#student": false
   },
   "source": [
    "<table align=\"left\" style=\"border-style: hidden\" class=\"table\"> <tr><td class=\"col-md-2\"><img style=\"float: left; width: 200px; height: 200px;\" src=\"../logo.png\" alt=\"Data 140 Logo\" style=\"width: 120px;\"/></td><td><div align=\"left\"><h3 style=\"margin-top: 0;\">Probability for Data Science</h3><h4 style=\"margin-top: 20px;\">UC Berkeley, Spring 2025</h4><p>Michael Xiao and Ani Adhikari</p>CC BY-NC-SA 4.0</div></td></tr></table><!-- not in pdf -->\n",
    "\n",
    "This content is protected and may not be shared, uploaded, or distributed."
   ]
  },
  {
   "cell_type": "markdown",
   "id": "26e565e8-bb7b-4022-9ac3-362768fa07b3",
   "metadata": {
    "#question": false,
    "#solution": false,
    "#staff": false,
    "#student": false
   },
   "source": [
    "# Homework 7 (Due March 10th at 5 PM) #"
   ]
  },
  {
   "cell_type": "code",
   "execution_count": null,
   "id": "8954a9e8-b662-4aea-809c-db4d03eb9c5b",
   "metadata": {
    "#question": false,
    "#solution": false,
    "#staff": false,
    "#student": false
   },
   "outputs": [],
   "source": [
    "import warnings\n",
    "warnings.filterwarnings('ignore')\n",
    "\n",
    "from prob140 import *\n",
    "from datascience import *\n",
    "import numpy as np\n",
    "from scipy import stats\n",
    "\n",
    "import matplotlib.pyplot as plt\n",
    "%matplotlib inline\n",
    "import matplotlib\n",
    "matplotlib.style.use('fivethirtyeight')"
   ]
  },
  {
   "cell_type": "markdown",
   "id": "9bbd47c7-034c-43c8-9df1-575d84510372",
   "metadata": {
    "#question": false,
    "#solution": false,
    "#staff": false,
    "#student": true
   },
   "source": [
    "### Instructions\n",
    "\n",
    "Your homeworks will generally have two components: a written portion and a portion that also involves code.  Written work should be completed on paper, and coding questions should be done in the notebook. Start the work for the written portions of each section on a new page. You are welcome to $\\LaTeX$ your answers to the written portions, but staff will not be able to assist you with $\\LaTeX$ related issues. \n",
    "\n",
    "It is your responsibility to ensure that both components of the homework are submitted completely and properly to Gradescope. **Make sure to assign each page of your pdf to the correct question. Refer to the bottom of the notebook for submission instructions.**"
   ]
  },
  {
   "cell_type": "markdown",
   "id": "e1b3a56c-3e55-441b-99c2-c21fa1cd36b1",
   "metadata": {
    "#question": false,
    "#solution": false,
    "#staff": false,
    "#student": true
   },
   "source": [
    "### How to Do Your Homework ###\n",
    "The point of homework is for you to try your hand at using what you've learned in class. The steps to follow:\n",
    "\n",
    "- Go to lecture and sections, and also go over the relevant text sections before starting on the homework. This will remind you what was covered in class, and the text will typically contain examples not covered in lecture. The weekly Study Guide will list what you should read.\n",
    "- Work on some of the practice problems before starting on the homework.\n",
    "- Attempt the homework problems by yourself with the text, section work, and practice materials all at hand. Sometimes the week's lab will help as well. The two steps above will help this step go faster and be more fruitful.\n",
    "- At this point, seek help if you need it. Don't ask how to do the problem — ask how to get started, or for a nudge to get you past where you are stuck. Always say what you have already tried. That helps us help you more effectively.\n",
    "- For a good measure of your understanding, keep track of the fraction of the homework you can do by yourself or with minimal help. It's a better measure than your homework score, and only you can measure it."
   ]
  },
  {
   "cell_type": "markdown",
   "id": "087a6ac4-0cbb-46c1-a5fd-49b20390da16",
   "metadata": {
    "#question": false,
    "#solution": false,
    "#staff": false,
    "#student": true
   },
   "source": [
    "### Rules for Homework ###\n",
    "- Every answer should contain a calculation or reasoning. For example, a calculation such as $(1/3)(0.8) + (2/3)(0.7)$ or `sum([(1/3)*0.8, (2/3)*0.7])`is fine without further explanation or simplification. If we want you to simplify, we'll ask you to. But just ${5 \\choose 2}$ by itself is not fine; write \"we want any 2 out of the 5 frogs and they can appear in any order\" or whatever reasoning you used. Reasoning can be brief and abbreviated, e.g. \"product rule\" or \"not mutually exclusive.\"\n",
    "- You may consult others (see \"How to Do Your Homework\" above) but you must write up your own answers using your own words, notation, and sequence of steps.\n",
    "- We'll be using Gradescope. You must submit the homework according to the instructions at the end of homework set."
   ]
  },
  {
   "cell_type": "markdown",
   "id": "37ef1b71-d5b1-4f15-924a-32168f584c0b",
   "metadata": {
    "#question": false,
    "#solution": false,
    "#staff": false,
    "#student": true
   },
   "source": [
    "## **We will not grade assignments which do not have pages selected for each question.** ##"
   ]
  },
  {
   "cell_type": "markdown",
   "id": "76c68e1c-5b8c-45d0-b151-6c2bf9116951",
   "metadata": {
    "#question": false,
    "#solution": false,
    "#staff": false,
    "#student": false
   },
   "source": [
    "\\newpage"
   ]
  },
  {
   "cell_type": "markdown",
   "id": "2a74d35b-60df-4f37-8c54-47cb0c3d3ffe",
   "metadata": {
    "#question": true,
    "#solution": false,
    "#staff": false,
    "#student": false
   },
   "source": [
    "## 1. Correlation ##\n",
    "The *correlation coefficient* between random variables $X$ and $Y$ is defined as\n",
    "\n",
    "$$\n",
    "r(X, Y) ~ = \\frac{Cov(X, Y)}{SD(X)SD(Y)}\n",
    "$$\n",
    "\n",
    "It is called the correlation, for short. The definition explains why $X$ and $Y$ are called *uncorrelated* if $Cov(X, Y) = 0$.\n",
    "\n",
    "**a)** Let $X^*$ be $X$ in standard units and let $Y^*$ be $Y$ in standard units. Check that\n",
    "\n",
    "$$\n",
    "r(X, Y) = E(X^*Y^*)\n",
    "$$\n",
    "\n",
    "This is the random variable version of the Data 8 definition of the correlation between two data variables: convert each variable to standard units; multiply each pair; take the mean of the products.\n",
    "\n",
    "**b)** Use the fact that $(X^* + Y^*)^2$ and $(X^* - Y^*)^2$ are non-negative random variables to show that $-1 \\le r(X, Y) \\le 1$.\n",
    "\n",
    "[First find the numerical values of $E(X^*)$ and $E\\left({X^*}^2\\right)$. Then find $E\\left((X^* + Y^*)^2\\right)$.]\n",
    "\n",
    "**c)** Show that if $Y = aX+b$ where $a \\ne 0$, then $r(X, Y)$ is 1 or $-1$ depending on whether the sign of $a$ is positive or negative.\n",
    "\n",
    "**d)** Consider a sequence of i.i.d. Bernoulli $(p)$ trials. For any positive integer $k$ let $X_k$ be the number of successes in trials 1 through $k$. **Use bilinearity** to find $Cov(X_n, X_{n+m})$ and hence find $r(X_n, X_{n+m})$.\n",
    "\n",
    "**e)** Fix $n$ and find the limit of $r(X_n, X_{n+m})$ as $m \\to \\infty$. Explain why the limit is consistent with intuition."
   ]
  },
  {
   "cell_type": "markdown",
   "id": "9bf57ffa-b702-4c5c-b986-0e16cc2dd7a3",
   "metadata": {
    "#question": false,
    "#solution": false,
    "#staff": false,
    "#student": false
   },
   "source": [
    "\\newpage"
   ]
  },
  {
   "cell_type": "markdown",
   "id": "6d172e71-3f55-4cab-a2ad-9267cbf4ad22",
   "metadata": {
    "#question": true,
    "#solution": false,
    "#staff": false,
    "#student": false
   },
   "source": [
    "## 2. Collecting Distinct Values ##\n",
    "\n",
    "In Homework 4 you found the expectation of each of the random variables below. **Go back and see how you did that, and then use the same ideas** to find the variance of each one. \n",
    "\n",
    "For one part you will need the fact that the SD of a geometric $(p)$ random variable is $\\frac{\\sqrt{q}}{p}$ where $q = 1-p$. We haven't proved that as the algebra takes a bit of work. We will prove it later in the course by conditioning.\n",
    "\n",
    "**(a)** A die is rolled $n$ times. Find the variance of number of faces that *do not* appear.\n",
    "\n",
    "**(b)** Use your answer to (a) to find the variance of the number of distinct faces that *do* appear in $n$ rolls of a die.\n",
    "\n",
    "**(c)** Find the variance of the number of times you have to roll a die till you have seen all of the faces."
   ]
  },
  {
   "cell_type": "markdown",
   "id": "e93d92e8-5c81-4cd3-997c-963bea1eda1d",
   "metadata": {
    "#question": false,
    "#solution": false,
    "#staff": false,
    "#student": false
   },
   "source": [
    "\\newpage"
   ]
  },
  {
   "cell_type": "markdown",
   "id": "f86160f9-9192-4353-90d2-fbd714f37745",
   "metadata": {
    "#question": true,
    "#solution": false,
    "#staff": false,
    "#student": false
   },
   "source": [
    "## 3. The \"Sample Variance\" ###\n",
    "\n",
    "Let $X_1, X_2, \\ldots, X_n$ be i.i.d. (discrete or continuous), each with mean $\\mu$ and SD $\\sigma$. Let $\\bar{X} = \\frac{1}{n}\\sum_{i=1}^n X_i$ be the sample mean.\n",
    "\n",
    "**(a)** Find $E(\\bar{X})$ and $SD(\\bar{X})$. It's fine to just quote answers derived in class or in the textbook.\n",
    "\n",
    "**(b)** For each $i$, find $Cov(X_i, \\bar{X})$. [Plug in the definition of $\\bar{X}$ and use bilinearity.]\n",
    "\n",
    "**(c)** For each $i$ in the range 1 through $n$, define the *$i$th deviation in the sample* as $D_i = X_i - \\bar{X}$. Find $E(D_i)$ and $Var(D_i)$. [Write the variance as $Cov(D_i, D_i)$, plug in the definition of $D_i$, and use bilinearity.]\n",
    "\n",
    "**(d)** Define the random variable $\\hat{\\sigma}^2$ as\n",
    "$$\n",
    "\\hat{\\sigma}^2 ~ = ~ \\frac{1}{n} \\sum_{i=1}^n D_i^2\n",
    "$$\n",
    "Find $E(\\hat{\\sigma}^2)$.\n",
    "\n",
    "For this random variable, the notation $\\hat{\\sigma}^2$ is pretty standard in statistics. Just think of $\\hat{\\sigma}^2$ as a symbol; it doesn't help to start thinking about the random variable that is its square root.\n",
    "\n",
    "**(e)** Use Part **d** to construct a random variable denoted $S^2$ that is an unbiased estimator of $\\sigma^2$. This random variable $S^2$ is called the *sample variance* and is frequently used in inference."
   ]
  },
  {
   "cell_type": "markdown",
   "id": "690e02a7-ddb5-4a2b-b978-f9e4ee1e39bc",
   "metadata": {
    "#question": false,
    "#solution": false,
    "#staff": false,
    "#student": false
   },
   "source": [
    "\\newpage"
   ]
  },
  {
   "cell_type": "markdown",
   "id": "f00eeb63-81ee-4362-90f2-101a0202e2b5",
   "metadata": {
    "#question": true,
    "#solution": false,
    "#staff": false,
    "#student": false
   },
   "source": [
    "## 4. Poisson-Binomial Distribution\n",
    "\n",
    "For this exercise, please refer to the theory in [Section 14.1](http://prob140.org/textbook/content/Chapter_14/01_Exact_Distribution_of_a_Sum.html#) and the code in [Section 14.2](http://prob140.org/textbook/content/Chapter_14/02_PGFs_in_NumPy.html).\n",
    "\n",
    "In Lab 3B you saw that a *Poisson-binomial* random variable is a sum of independent indicators that are not necessarily identically distributed: \n",
    "\n",
    "$X = I_1 + I_2 + \\cdots + I_n$ where $I_j$ has the Bernoulli $(p_j)$ distribution and $I_1, I_2, \\ldots, I_n$ are independent.\n",
    "\n",
    "**(a)** What is the probability generating function of a Bernoulli $(p)$ random variable? Provide a formula and then use the code cell below to define a function `indicator_pgf` that takes $p$ as its argument and returns the probability generating function of a Bernoulli $(p)$ random variable as a `NumPy` polynomial. Use as many lines as you need. The last line of the cell is there for you to check that your function is working."
   ]
  },
  {
   "cell_type": "code",
   "execution_count": null,
   "id": "f0ced996-1463-4eb6-8dbf-7e08c9ac7311",
   "metadata": {
    "#question": false,
    "#solution": false,
    "#staff": false,
    "#student": true
   },
   "outputs": [],
   "source": [
    "# Answer to a\n",
    "\n",
    "def indicator_pgf(p):\n",
    "    ...\n",
    "    return ...\n",
    "\n",
    "print(indicator_pgf(0.4))"
   ]
  },
  {
   "cell_type": "markdown",
   "id": "548da791-f4bc-4b36-b4c0-fef7146eae5e",
   "metadata": {
    "#question": true,
    "#solution": false,
    "#staff": false,
    "#student": false
   },
   "source": [
    "\n",
    "**(b)** For $j = 1, 2, \\ldots, 20$, let $p_j = 1/(j+1)$. Let $I_1, I_2, \\ldots, I_{20}$ be independent indicators such that $I_j$ has the Bernoulli $(p_j)$ distribution, and let $X = I_1 + I_2 + \\cdots + I_{20}$. Complete the code cell below so that `pgf_X` is the probability generating function of $X$ as a `NumPy` polynomial. Use as many lines as you need. The last two lines are there for you to check that your polynomial has the correct degree and that it is indeed a probability generating function."
   ]
  },
  {
   "cell_type": "code",
   "execution_count": null,
   "id": "14cace0f-5d86-4351-9043-2dc1b852d920",
   "metadata": {
    "#question": false,
    "#solution": false,
    "#staff": false,
    "#student": true
   },
   "outputs": [],
   "source": [
    "# Answer to b\n",
    "\n",
    "...\n",
    "\n",
    "print(pgf_X)\n",
    "sum(pgf_X.c) # sum of coefficients"
   ]
  },
  {
   "cell_type": "markdown",
   "id": "81c47482-6a5e-4f20-94de-3b320f9ed9ba",
   "metadata": {
    "#question": true,
    "#solution": false,
    "#staff": false,
    "#student": false
   },
   "source": [
    "\n",
    "**(c)** Complete the cell below to plot the probability histogram of $X$. Do not add any more lines."
   ]
  },
  {
   "cell_type": "code",
   "execution_count": null,
   "id": "226229fc-ece8-42c0-90da-ef736ddaa5a4",
   "metadata": {
    "#question": false,
    "#solution": false,
    "#staff": false,
    "#student": true
   },
   "outputs": [],
   "source": [
    "# Answer to c\n",
    "\n",
    "vals_X = ...\n",
    "probs_X = ...\n",
    "dist_X = Table()...\n",
    "Plot(dist_X)"
   ]
  },
  {
   "cell_type": "markdown",
   "id": "f086ab18-3160-4e28-8154-349a18368cef",
   "metadata": {
    "#question": true,
    "#solution": false,
    "#staff": false,
    "#student": false
   },
   "source": [
    "\n",
    "**(d)** Complete the cell below to find the expectation, variance, and SD of $X$ using `p_array`. Do not add any more lines. Then run the cell below that to check your answers."
   ]
  },
  {
   "cell_type": "code",
   "execution_count": null,
   "id": "a2d99696-b56e-431c-af85-451aa65dd531",
   "metadata": {
    "#question": false,
    "#solution": false,
    "#staff": false,
    "#student": true
   },
   "outputs": [],
   "source": [
    "# Answer to d\n",
    "\n",
    "p_array = 1/np.arange(2, 22)\n",
    "ev_X = ...\n",
    "var_X = ...\n",
    "sd_X = ...\n",
    "ev_X, var_X, sd_X"
   ]
  },
  {
   "cell_type": "code",
   "execution_count": null,
   "id": "b03ddab8-90a8-4503-9867-bb475c084a0e",
   "metadata": {
    "#question": false,
    "#solution": false,
    "#staff": false,
    "#student": false
   },
   "outputs": [],
   "source": [
    "dist_X.ev(), dist_X.var(), dist_X.sd()"
   ]
  },
  {
   "cell_type": "markdown",
   "id": "81bab8a5-79f2-4444-af1c-feb65f29d437",
   "metadata": {
    "#question": true,
    "#solution": false,
    "#staff": false,
    "#student": false
   },
   "source": [
    "\n",
    "**(e)** Explain why the distribution of $X$ cannot be Poisson. Then show that the distribution of $X$ is not binomial either, as follows. If $X$ were binomial, what would $n$ have to be? Use that and your answer to Part (d) to see what $p$ would have to be. Use the code cell below to find the variance of that binomial distribution, and compare with your answer to Part (d)."
   ]
  },
  {
   "cell_type": "code",
   "execution_count": null,
   "id": "8b58bec6-70a9-4cc5-a462-72bb2d3c61f5",
   "metadata": {
    "#question": false,
    "#solution": false,
    "#staff": false,
    "#student": true
   },
   "outputs": [],
   "source": [
    "# Answer to e\n",
    "\n",
    "n = ...\n",
    "p = ...\n",
    "binomial_variance = ... \n",
    "binomial_variance"
   ]
  },
  {
   "cell_type": "markdown",
   "id": "e22231ad-a6c2-4bba-b165-3f18f19ea590",
   "metadata": {
    "#question": false,
    "#solution": false,
    "#staff": false,
    "#student": false
   },
   "source": [
    "\\newpage"
   ]
  },
  {
   "cell_type": "markdown",
   "id": "a679aa30-ab27-4ee9-9ca0-7432a5998a66",
   "metadata": {
    "#question": true,
    "#solution": false,
    "#staff": false,
    "#student": false
   },
   "source": [
    "\n",
    "## 5. Testing Hypotheses in the Gauss Model\n",
    "\n",
    "The [Gauss](https://en.wikipedia.org/wiki/Carl_Friedrich_Gauss) model for measurement error says that repeated measurements $X_1, X_2, \\ldots, X_n$ of the same quantity have the structure\n",
    "\n",
    "$$\n",
    "X_i = \\mu + \\epsilon_i, ~~~~~ 1 \\leq i \\leq n\n",
    "$$\n",
    "\n",
    "where $\\mu$ is an unknown constant called the *true value* and $\\epsilon_1, \\epsilon_2, \\ldots, \\epsilon_n$ are random error terms assumed to be i.i.d. with mean 0 and variance $\\sigma^2$. \n",
    "\n",
    "From a practical perspective, the true value $\\mu$ comes from the quantity being measured (for example, the true weight of an object). The error terms come from the measuring process (for example, from the balance being used for weighing). Thus $\\sigma$ is sometimes known because of extensive experience with the measuring process (for example, having used the same balance to weigh many different objects). \n",
    "\n",
    "So assume that the Gauss model holds with $\\sigma = 1$, and let $n = 100$. Suppose a data scientist wants to test the following hypotheses:\n",
    "\n",
    "- Null hypothesis $H_0$: $\\mu = 20$\n",
    "- Alternative hypothesis $H_A$: $\\mu \\neq 20$\n",
    "\n",
    "Suppose the data scientist wants to use the average measurement $\\bar{X}$ as the test statistic and reject the null hypothesis if $\\vert \\bar{X} - 20 \\vert > 0.175$.\n",
    "\n",
    "**(a)** Rewrite the decision rule by filling in the blanks with numbers: $\\vert \\bar{X} - 20 \\vert > 0.175 \\iff \\bar{X} < \\underline{~~~~~~~~} \\text{ or } \\bar{X} > \\underline{~~~~~~~~}$\n",
    "\n",
    "**(b) Level:** Find the approximate distribution of the test statistic $\\bar{X}$ under $H_0$, and use this distribution to find the approximate probability that the test rejects the null hypothesis if the null hypothesis is true. This probability is called the *level* of the test. In Data 8 we called it the cutoff for the p-value. \n",
    "\n",
    "**Please write out your answer in math notation.** Then use the code cell below for scratch work. Remember that `stats.norm.cdf(x, mean, SD)` evaluates to the cdf of the normal $(\\text{mean, } \\text{SD}^2)$ distribution at the point $x$. The necessary modules have been imported at the top of this notebook.\n",
    "\n",
    "**(c) Power:** Suppose that in fact $\\mu = 20.5$ though the data scientist doesn't know this and is still performing the same test as above. Find the approximate distribution of the test statistic $\\bar{X}$ under the condition $\\mu = 20.5$, and use this distribution to find the approximate probability that the test rejects the null hypothesis if $\\mu = 20.5$. This probability is called the *power of the test against the fixed alternative $\\mu = 20.5$*. \n",
    "\n",
    "**Please write out your answer in math notation.** Then use the code cell below for scratch work."
   ]
  },
  {
   "cell_type": "code",
   "execution_count": null,
   "id": "c4baf8d0-1c17-4aa5-91bf-70ae3644e3e8",
   "metadata": {
    "#question": false,
    "#solution": false,
    "#staff": false,
    "#student": true
   },
   "outputs": [],
   "source": [
    "# Scratch work for b and c\n"
   ]
  },
  {
   "cell_type": "markdown",
   "id": "f5193462-4d2f-4ce8-8e85-1f7a9d836ea0",
   "metadata": {
    "#question": true,
    "#solution": false,
    "#staff": false,
    "#student": false
   },
   "source": [
    "\n",
    "**(d)** Complete the code cell below to plot the graph of the power of the test under the fixed alternative $\\mu = \\mu_A$ for $\\mu_A$ in the range `true_mu` below. Do not add any more lines.\n",
    "\n",
    "Computational note: First study the code below and compare with the output of the cell. "
   ]
  },
  {
   "cell_type": "code",
   "execution_count": null,
   "id": "bdff20fe-9e79-4870-862a-83306786e0be",
   "metadata": {
    "#question": false,
    "#solution": false,
    "#staff": false,
    "#student": false
   },
   "outputs": [],
   "source": [
    "mu_list = [10, 15, 20]  # It's also fine for this to be an array.\n",
    "\n",
    "# array of P(X_i < 12)\n",
    "# for X_i normal with mean = ith element of mu_list\n",
    "# and SD = 8\n",
    "stats.norm.cdf(12, mu_list, 8)"
   ]
  },
  {
   "cell_type": "code",
   "execution_count": null,
   "id": "77a96b58-d11f-4df2-b7cc-b2fbf5d86606",
   "metadata": {
    "#question": false,
    "#solution": false,
    "#staff": false,
    "#student": true
   },
   "outputs": [],
   "source": [
    "# Answer to d\n",
    "\n",
    "true_mu = np.arange(19, 21, 0.01)\n",
    "power = ...\n",
    "\n",
    "plt.plot(true_mu, power, color='darkblue', lw=2)\n",
    "plt.xlabel('True value of $\\mu$')\n",
    "plt.title('Power of the Test');"
   ]
  },
  {
   "cell_type": "markdown",
   "id": "d801c85c-2766-4ffb-a88e-cd9f5995ebe7",
   "metadata": {
    "#question": true,
    "#solution": false,
    "#staff": false,
    "#student": false
   },
   "source": [
    "\n",
    "**(e)** Interpret the graph. What is the test likely to do if the true value of $\\mu$ is far from 20, and what does the power converge to (be careful!) when the true value gets close to $20$?"
   ]
  },
  {
   "cell_type": "markdown",
   "id": "5d45c273-4ba2-41b7-b2da-9eefd2514ea0",
   "metadata": {
    "#question": false,
    "#solution": false,
    "#staff": false,
    "#student": true,
    "jp-MarkdownHeadingCollapsed": true
   },
   "source": [
    "## Submission Instructions ##\n",
    "\n",
    "Many assignments throughout the course will have a written portion and a code portion. Please follow the directions below to properly submit both portions.\n",
    "\n",
    "### Written Portion ###\n",
    "*  Scan all the pages into a PDF. You can use any scanner or a phone using applications such as CamScanner. Please **DO NOT** simply take pictures using your phone. \n",
    "* Please start a new page for each question. If you have already written multiple questions on the same page, you can crop the image in CamScanner or fold your page over (the old-fashioned way). This helps expedite grading.\n",
    "* It is your responsibility to check that all the work on all the scanned pages is legible.\n",
    "* If you used $\\LaTeX$ to do the written portions, you do not need to do any scanning; you can just download the whole notebook as a PDF via LaTeX.\n",
    "\n",
    "### Code Portion ###\n",
    "* Save your notebook using `File > Save Notebook`.\n",
    "* Generate a PDF file using `File > Save and Export Notebook As > PDF`. This might take a few seconds and will automatically download a PDF version of this notebook.\n",
    "    * If you have issues, please post a follow-up on the general Homework 7 Ed thread.\n",
    "    \n",
    "### Submitting ###\n",
    "* Combine the PDFs from the written and code portions into one PDF. [Here](https://smallpdf.com/merge-pdf) is a useful tool for doing so. \n",
    "* Submit the assignment to Homework 7 on Gradescope. \n",
    "* **Make sure to assign each page of your pdf to the correct question.**\n",
    "* **It is your responsibility to verify that all of your work shows up in your final PDF submission.**\n",
    "\n",
    "If you are having difficulties scanning, uploading, or submitting your work, please read the [Ed Thread](https://edstem.org/us/courses/74394/discussion/6005296) on this topic and post a follow-up on the general Homework 7 Ed thread."
   ]
  },
  {
   "cell_type": "markdown",
   "id": "31e48c4e-f347-460b-8f29-10e22b6568d5",
   "metadata": {
    "#question": false,
    "#solution": false,
    "#staff": false,
    "#student": true
   },
   "source": [
    "## **We will not grade assignments which do not have pages selected for each question.** ##"
   ]
  }
 ],
 "metadata": {
  "checksums": [
   "c25cbc8f297629ccc18d96154b8c28d9",
   "5fa6ead2420829afb00490ef2cc05de3",
   "f6b7b3f605ba090e0efd9a26d52136e8",
   "b16136dce74f8ce981b93eebd5764010",
   "e8b146b4314b9ff8608529b2cf2e2d0e",
   "5e382e32f1416ebdbc3411b88ff3b874",
   "28b84f784840e42a5b8327aab8f973c0",
   "562505d567faf02dfc9388e81e89d07b",
   "0ff1a0537aa1864e691699b9062ec00f",
   "562505d567faf02dfc9388e81e89d07b",
   "b935145de23add78156daac19ac3efb4",
   "562505d567faf02dfc9388e81e89d07b",
   "2140f69280c70fa8a737c4b3ab90b0d6",
   "562505d567faf02dfc9388e81e89d07b",
   "5ca45fa9467d581dfa0b0f2014959416",
   "32b31b0e84cbe4c0d5c6ca1460b6c024",
   "ffa37178816d68d9528e9d342909628f",
   "396349e9ff32727e2b0da48a9c7af961",
   "89b30f97559ca9f0df973b3ba95ce456",
   "a31727edc3ab1349b3a36489e7134d71",
   "c75e477e5c02a28a91d42c50f20b6ce0",
   "9421cedb441b1af3e0a8c3dff5f0d24f",
   "c487ce8667c98b8bfdb351828ee85254",
   "ad1e53967522a543a357713d61923fab",
   "b5525187fc37da324133ce506b8c91c8",
   "562505d567faf02dfc9388e81e89d07b",
   "81fd7a688b7e89f2e6bbd54d2ef4cf2f",
   "de9a11333d48bba590b8b6d9ec80f2f9",
   "696ef4f51f793f12f42a61463a8cfcb4",
   "15e24ee019ee1c730aae6a0118380128",
   "041d0bdf68b2b7c308afa32fad295474",
   "580e12e058798baab3357bf7c98ec453",
   "3f802ae49e7e9e772b771b9dc2e51b92",
   "28b84f784840e42a5b8327aab8f973c0"
  ],
  "kernelspec": {
   "display_name": "Python 3 (ipykernel)",
   "language": "python",
   "name": "python3"
  },
  "language_info": {
   "codemirror_mode": {
    "name": "ipython",
    "version": 3
   },
   "file_extension": ".py",
   "mimetype": "text/x-python",
   "name": "python",
   "nbconvert_exporter": "python",
   "pygments_lexer": "ipython3",
   "version": "3.12.8"
  },
  "number_of_pagebreaks": 0
 },
 "nbformat": 4,
 "nbformat_minor": 5
}
