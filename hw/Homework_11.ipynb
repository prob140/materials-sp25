{
 "cells": [
  {
   "cell_type": "markdown",
   "metadata": {
    "#question": false,
    "#solution": false,
    "#staff": false,
    "#student": false,
    "tags": []
   },
   "source": [
    "<table align=\"left\" style=\"border-style: hidden\" class=\"table\"> <tr><td class=\"col-md-2\"><img style=\"float: left; width: 200px; height: 200px;\" src=\"../logo.png\" alt=\"Data 140 Logo\" style=\"width: 120px;\"/></td><td><div align=\"left\"><h3 style=\"margin-top: 0;\">Probability for Data Science</h3><h4 style=\"margin-top: 20px;\">UC Berkeley, Spring 2025</h4><p>Michael Xiao and Ani Adhikari</p>CC BY-NC-SA 4.0</div></td></tr></table><!-- not in pdf -->\n",
    "\n",
    "This content is protected and may not be shared, uploaded, or distributed."
   ]
  },
  {
   "cell_type": "code",
   "execution_count": null,
   "metadata": {
    "#question": false,
    "#solution": false,
    "#staff": false,
    "#student": false
   },
   "outputs": [],
   "source": [
    "import warnings\n",
    "warnings.filterwarnings('ignore')\n",
    "\n",
    "from prob140 import *\n",
    "from datascience import *\n",
    "import numpy as np\n",
    "from scipy import stats\n",
    "\n",
    "import matplotlib.pyplot as plt\n",
    "%matplotlib inline\n",
    "import matplotlib\n",
    "matplotlib.style.use('fivethirtyeight')"
   ]
  },
  {
   "cell_type": "markdown",
   "metadata": {
    "#question": false,
    "#solution": false,
    "#staff": false,
    "#student": false
   },
   "source": [
    "# Homework 11 (Due Monday, April 14th at 5 PM)"
   ]
  },
  {
   "cell_type": "markdown",
   "metadata": {
    "#question": false,
    "#solution": false,
    "#staff": false,
    "#student": true
   },
   "source": [
    "### How to Do Your Homework ###\n",
    "The point of homework is for you to try your hand at using what you've learned in class. The steps to follow:\n",
    "\n",
    "- Go to lecture and sections, and also go over the relevant text sections before starting on the homework. This will remind you what was covered in class, and the text will typically contain examples not covered in lecture. The weekly Study Guide will list what you should read.\n",
    "- Work on some of the practice problems before starting on the homework.\n",
    "- Attempt the homework problems by yourself with the text, section work, and practice materials all at hand. Sometimes the week's lab will help as well. The two steps above will help this step go faster and be more fruitful.\n",
    "- At this point, seek help if you need it. Don't ask how to do the problem — ask how to get started, or for a nudge to get you past where you are stuck. Always say what you have already tried. That helps us help you more effectively.\n",
    "- For a good measure of your understanding, keep track of the fraction of the homework you can do by yourself or with minimal help. It's a better measure than your homework score, and only you can measure it."
   ]
  },
  {
   "cell_type": "markdown",
   "metadata": {
    "#question": false,
    "#solution": false,
    "#staff": false,
    "#student": true
   },
   "source": [
    "### Rules for Homework ###\n",
    "- Every answer should contain a calculation or reasoning. For example, a calculation such as $(1/3)(0.8) + (2/3)(0.7)$ or `sum([(1/3)*0.8, (2/3)*0.7])`is fine without further explanation or simplification. If we want you to simplify, we'll ask you to. But just ${5 \\choose 2}$ by itself is not fine; write \"we want any 2 out of the 5 frogs and they can appear in any order\" or whatever reasoning you used. Reasoning can be brief and abbreviated, e.g. \"product rule\" or \"not mutually exclusive.\"\n",
    "- You may consult others (see \"How to Do Your Homework\" above) but you must write up your own answers using your own words, notation, and sequence of steps.\n",
    "- We'll be using Gradescope. You must submit the homework according to the instructions at the end of homework set.\n",
    "\n",
    "## **We will not grade assignments which do not have pages correctly selected for each question.** ##"
   ]
  },
  {
   "cell_type": "markdown",
   "metadata": {
    "#question": false,
    "#solution": false,
    "#staff": false,
    "#student": false
   },
   "source": [
    "### Preliminary: Line Plots\n",
    "\n",
    "In Data 8 you used `Table.plot` to draw line plots, but in this class the line plots have typically been drawn using the plot function of matplotlib. Here is the syntax; you are going to need it in the exercises. It's easier than setting up tables first, especially when you want to overlay multiple plots.\n",
    "\n",
    "The `pyplot` module of matplotlib has been imported for you as `plt`. This is its standard abbreviation.\n",
    "\n",
    "Let `x` and `y` be two numerical arrays of the same length. Then `plt.plot(x, y)` produces a line plot with values of `x` on the horizontal axis and the corresponding values of `y` on the vertical. The plot \"joins the dots\" `(x.item(0), y.item(0))`, `(x.item(1), y.item(1))`, `(x.item(2), y.item(2))`, and so on.\n",
    "\n",
    "The optional argument `lw=n` can be used to set a line width of n units. Please use `lw=2` in this homework.\n",
    "\n",
    "The semicolon at the end of the last line of code in each cell stops matplotlib from blurting out text that we don't need here.\n",
    "\n",
    "Run these cells to see some examples. Note the overlaid plots: they are straightforward to draw, and Python chooses a different color for each plot."
   ]
  },
  {
   "cell_type": "code",
   "execution_count": null,
   "metadata": {
    "#question": false,
    "#solution": false,
    "#staff": false,
    "#student": false
   },
   "outputs": [],
   "source": [
    "x = np.arange(0, 1.01, 0.01)\n",
    "x_squared = x ** 2\n",
    "x_cubed = x**3\n",
    "plt.plot(x, x_squared, lw=2)\n",
    "plt.plot(x, x_cubed, lw=2);"
   ]
  },
  {
   "cell_type": "markdown",
   "metadata": {
    "#question": false,
    "#solution": false,
    "#staff": false,
    "#student": false
   },
   "source": [
    "You can add titles, labels, and legends."
   ]
  },
  {
   "cell_type": "code",
   "execution_count": null,
   "metadata": {
    "#question": false,
    "#solution": false,
    "#staff": false,
    "#student": false
   },
   "outputs": [],
   "source": [
    "plt.plot(x, x_squared, lw=2, label = 'Square')\n",
    "plt.plot(x, x_cubed, lw=2, label = 'Cube')\n",
    "plt.legend()\n",
    "plt.xlabel('x')\n",
    "plt.title('Powers of $x$');"
   ]
  },
  {
   "cell_type": "markdown",
   "metadata": {
    "#question": false,
    "#solution": false,
    "#staff": false,
    "#student": false
   },
   "source": [
    "As another example, the code below was used in Homework 9 Exercise 3d to plot gamma densities."
   ]
  },
  {
   "cell_type": "code",
   "execution_count": null,
   "metadata": {
    "#question": false,
    "#solution": false,
    "#staff": false,
    "#student": false
   },
   "outputs": [],
   "source": [
    "t = np.arange(0, 25, 0.01)\n",
    "r_1 = stats.gamma.pdf(t, 1, scale=1/0.25)\n",
    "r_1_5 = stats.gamma.pdf(t, 1.5, scale=1/0.25)\n",
    "r_2 = stats.gamma.pdf(t, 2, scale=1/0.25)\n",
    "r_2_5 = stats.gamma.pdf(t, 2.5, scale=1/0.25)\n",
    "r_3 = stats.gamma.pdf(t, 3, scale=1/0.25)\n",
    "plt.plot(t, r_1, lw=2, label='gamma (1, 0.25)')\n",
    "plt.plot(t, r_1_5, lw=2, label='gamma (1.5, 0.25)')\n",
    "plt.plot(t, r_2, lw=2, label='gamma (2, 0.25)')\n",
    "plt.plot(t, r_2_5, lw=2, label='gamma (2.5, 0.25)')\n",
    "plt.plot(t, r_3, lw=2, label='gamma (3, 0.25)')\n",
    "plt.xlabel('$t$')\n",
    "plt.legend()\n",
    "plt.title('Gamma Densities: Same Rate and Different Shape Parameters');"
   ]
  },
  {
   "cell_type": "markdown",
   "metadata": {
    "#question": false,
    "#solution": false,
    "#staff": false,
    "#student": false
   },
   "source": [
    "\\newpage"
   ]
  },
  {
   "cell_type": "markdown",
   "metadata": {
    "#question": true,
    "#solution": false,
    "#staff": false,
    "#student": false
   },
   "source": [
    "## 1. MLE of the Exponential Rate ##\n",
    "For $n > 1$, let $X_1, X_2, \\ldots , X_n$ be i.i.d. exponential $(\\lambda )$ variables. \n",
    "\n",
    "**a)** Let $\\hat{\\lambda}_n$ be the maximum likelihood estimate (MLE) of the parameter $\\lambda$. Find $\\hat{\\lambda}_n$ in terms of the sample mean $\\bar{X}_n = \\frac{1}{n} \\sum_{i=1}^n X_i$. The subscript $n$ in $\\bar{X}_n$ is there to remind us that we have the average of $n$ values. It doesn't refer to the $n$th sampled value $X_n$.\n",
    "\n",
    "**b)** Use facts about sums and linear transformations to find the distribution of $\\bar{X}_n$ with little or no calculation. Recognize it as one of the famous ones and provide its name and parameters. Use it to find $E(\\hat{\\lambda}_n)$.\n",
    "\n",
    "**c)** Is $\\hat{\\lambda}_n$ an unbiased estimate of $\\lambda$? If it is biased, does it overestimate on average, or does it underestimate? Is it asymptotically unbiased? That is, does $E(\\hat{\\lambda}_n)$ converge to $\\lambda$ as $n \\to \\infty$?"
   ]
  },
  {
   "cell_type": "markdown",
   "metadata": {
    "#question": false,
    "#solution": false,
    "#staff": false,
    "#student": false
   },
   "source": [
    "\\newpage"
   ]
  },
  {
   "cell_type": "markdown",
   "metadata": {
    "#question": true,
    "#solution": false,
    "#staff": false,
    "#student": false
   },
   "source": [
    "## 2. Discrete and Continuous Random Selections ##\n",
    "Fix a positive integer $n$, and let $p$ be strictly between 0 and 1.\n",
    "\n",
    "Suppose Person A picks a number uniformly in the interval $(0, n)$. Let $X$ be the number Person A picks.\n",
    "\n",
    "Suppose that independently of Person A, Person B picks an integer $Y$ according to the binomial $(n, p)$ distribution, for example by using `stats.binom.rvs(n, p, size=1)` or by tossing a $p$-coin $n$ times and recording the number of heads.\n",
    "\n",
    "Find $P(X < Y)$."
   ]
  },
  {
   "cell_type": "markdown",
   "metadata": {
    "#question": false,
    "#solution": false,
    "#staff": false,
    "#student": false
   },
   "source": [
    "\\newpage"
   ]
  },
  {
   "cell_type": "markdown",
   "metadata": {
    "#question": true,
    "#solution": false,
    "#staff": false,
    "#student": false
   },
   "source": [
    "## 3. MLE and MAP Estimates ##\n",
    "\n",
    "The coin is tossed 10 times and the resulting sequence is HTTHHHTHTH. In the parts below, we refer to this information as \"the data\".\n",
    "\n",
    "**a)** Under the assumption that the coin lands heads with a fixed unknown probability $p$, find the MLE of $p$ based on the data. \n",
    "\n",
    "**b)** Suppose now that the coin lands heads with a random probability $X$. Let the prior density of $X$ be uniform on the unit interval. Find the MAP estimate of the probability of heads, given the data.\n",
    "\n",
    "**c)** Show that if $r > 1$ and $s > 1$ then the mode of the beta $(r, s)$  distribution is $(r-1)/(r+s-2)$. Remember to ignore multiplicative constants and take the log before maximizing.\n",
    "\n",
    "**d)** Suppose instead that the prior density of $X$ is $f(x) = 4x^3$ if $0 < x < 1$ and $0$ otherwise. Find the MAP estimate of the probability of heads, given the data."
   ]
  },
  {
   "cell_type": "markdown",
   "metadata": {
    "#question": false,
    "#solution": false,
    "#staff": false,
    "#student": false
   },
   "source": [
    "\\newpage"
   ]
  },
  {
   "cell_type": "markdown",
   "metadata": {
    "#question": true,
    "#solution": false,
    "#staff": false,
    "#student": false
   },
   "source": [
    "## 4. Heads in Tosses of a Random Coin\n",
    "Let $X$ be a random proportion with a prior distribution that is beta $(2, 3)$. Given $X=p$, let $I_1, I_2, I_3, \\ldots$ be i.i.d. Bernoulli $(p)$.\n",
    "\n",
    "**a)** Plot the prior density of $X$."
   ]
  },
  {
   "cell_type": "code",
   "execution_count": null,
   "metadata": {
    "#question": false,
    "#solution": false,
    "#staff": false,
    "#student": true
   },
   "outputs": [],
   "source": [
    "# Answer to a\n",
    "\n",
    "x = np.arange(0, 1.01, 0.01)\n",
    "...\n",
    "plt.title('Beta $(2, 3)$ density');"
   ]
  },
  {
   "cell_type": "markdown",
   "metadata": {
    "#question": true,
    "#solution": false,
    "#staff": false,
    "#student": false
   },
   "source": [
    "\n",
    "**b)** Let $H_7 = \\sum_{k=1}^7 I_k$. For each $h = 0, 1, \\ldots, 7$, plot the posterior density of $X$ given $H_7 = h$. All $8$ plots should be on the same graph. \n",
    "\n",
    "Use as many lines of code as you need. You don't have to include labels and a legend, but the title should say which densities you are plotting."
   ]
  },
  {
   "cell_type": "code",
   "execution_count": null,
   "metadata": {
    "#question": false,
    "#solution": false,
    "#staff": false,
    "#student": true
   },
   "outputs": [],
   "source": [
    "# Answer to b\n",
    "\n",
    "...\n",
    "\n",
    "plt.title('... (...) Densities for $0 \\leq h \\leq 7');"
   ]
  },
  {
   "cell_type": "markdown",
   "metadata": {
    "#question": true,
    "#solution": false,
    "#staff": false,
    "#student": false
   },
   "source": [
    "\n",
    "**c)** What is the MAP estimate of the random probability of heads given $H_7 = 2$? Calculate the estimate using the appropriate formula and confirm that your answer agrees with the estimate visible in the appropriate graph above.\n",
    "\n",
    "**d)** Find $P(I_8 = 1 \\mid H_7 = 2)$. Your answer should be a decimal value.\n",
    "\n",
    "**e)** Find $P(I_8 = 1, I_9 = 1, I_{10} = 1 \\mid H_7 = 2)$. Your answer should be a decimal value. Is it equal to the cube of the answer to Part (d)? If not, which is bigger?"
   ]
  },
  {
   "cell_type": "markdown",
   "metadata": {
    "#question": false,
    "#solution": false,
    "#staff": false,
    "#student": false
   },
   "source": [
    "\\newpage"
   ]
  },
  {
   "cell_type": "markdown",
   "metadata": {
    "#question": true,
    "#solution": false,
    "#staff": false,
    "#student": false
   },
   "source": [
    "## 5. Waiting for a Random Coin to Land Heads ##\n",
    "Let $X$ be a random proportion. Given $X=p$, let $T$ be the number of tosses till a $p$-coin lands heads.\n",
    "\n",
    "**a)** Let $P(X = 1/10) = 1/4$, $P(X = 1/7) = 1/4$, and $P(X = 1/3) = 1/2$. Find $E(T)$.\n",
    "\n",
    "**b)** Find $E(T)$ if $X$ has the beta $(r, s)$ density for some $r > 1$. Simplify all integrals and Gamma functions in your answer.\n",
    "\n",
    "**c)** Let $X$ have the beta $(r, s)$ density. For fixed $k > 0$, find the posterior density of $X$ given $T = k$. Identify it as one of the famous ones and state its name and parameters."
   ]
  },
  {
   "cell_type": "markdown",
   "metadata": {
    "#question": false,
    "#solution": false,
    "#staff": false,
    "#student": false
   },
   "source": [
    "\\newpage"
   ]
  },
  {
   "cell_type": "markdown",
   "metadata": {
    "#question": false,
    "#solution": false,
    "#staff": false,
    "#student": true,
    "tags": []
   },
   "source": [
    "## Submission Instructions ##\n",
    "\n",
    "Many assignments throughout the course will have a written portion and a code portion. Please follow the directions below to properly submit both portions.\n",
    "\n",
    "### Written Portion ###\n",
    "*  Scan all the pages into a PDF. You can use any scanner or a phone using applications such as CamScanner. Please **DO NOT** simply take pictures using your phone. \n",
    "* Please start a new page for each question. If you have already written multiple questions on the same page, you can crop the image in CamScanner or fold your page over (the old-fashioned way). This helps expedite grading.\n",
    "* It is your responsibility to check that all the work on all the scanned pages is legible.\n",
    "* If you used $\\LaTeX$ to do the written portions, you do not need to do any scanning; you can just download the whole notebook as a PDF via LaTeX.\n",
    "\n",
    "### Code Portion ###\n",
    "* Save your notebook using `File > Save and Checkpoint`.\n",
    "* Generate a PDF file using `File > Download As > PDF via LaTeX`. This might take a few seconds and will automatically download a PDF version of this notebook.\n",
    "    * If you have issues, please post a follow-up on the general Homework 11 Ed thread.\n",
    "    \n",
    "### Submitting ###\n",
    "* Combine the PDFs from the written and code portions into one PDF. [Here](https://smallpdf.com/merge-pdf) is a useful tool for doing so. \n",
    "* Submit the assignment to Homework 11 on Gradescope. \n",
    "* **Make sure to assign each page of your pdf to the correct question.**\n",
    "* **It is your responsibility to verify that all of your work shows up in your final PDF submission.**\n",
    "\n",
    "If you are having difficulties scanning, uploading, or submitting your work, please read the [Ed Thread](https://edstem.org/us/courses/74394/discussion/6005296) on this topic and post a follow-up on the general Homework 11 Ed thread."
   ]
  }
 ],
 "metadata": {
  "anaconda-cloud": {},
  "checksums": [
   "c25cbc8f297629ccc18d96154b8c28d9",
   "f6b7b3f605ba090e0efd9a26d52136e8",
   "f04e04544bd3a37311040c50ad1c4897",
   "e8b146b4314b9ff8608529b2cf2e2d0e",
   "eb8de0cd5020566e8a96e2d72d6bbb19",
   "e5956375aeb3200b4f5f64770f9efef1",
   "683ab38bd531921118e36873490212ae",
   "3482bcdb5c320847e6503a2362cc93ee",
   "d4eae9a0ea6ee651a816f4f8b7106b4f",
   "c0927c1ea3cac54950b07cab5e13729f",
   "f0f2de5b86271b4100a664a6364f7b81",
   "562505d567faf02dfc9388e81e89d07b",
   "65ea778b43a20fa1f0dc297b03146cc0",
   "562505d567faf02dfc9388e81e89d07b",
   "8bff4fec9c7405cf5f4ccea103d329c0",
   "562505d567faf02dfc9388e81e89d07b",
   "348d0e1d07278665c2a26d683abde7f7",
   "562505d567faf02dfc9388e81e89d07b",
   "2728d1898e3afd67557f584aeb93a744",
   "41258e82219a9e5abdc74a9ba95afabe",
   "1d23ec28bc4142a10c19a0079c1214d8",
   "799c1ddb0bdc4af76281620a3d86aa42",
   "f94a123537544aa577b9108f5f81e0eb",
   "562505d567faf02dfc9388e81e89d07b",
   "e6d6994515517fada9f120ce57de014c",
   "562505d567faf02dfc9388e81e89d07b",
   "a54b03c7de9bef335f83203a1bdb506b"
  ],
  "kernelspec": {
   "display_name": "Python 3 (ipykernel)",
   "language": "python",
   "name": "python3"
  },
  "language_info": {
   "codemirror_mode": {
    "name": "ipython",
    "version": 3
   },
   "file_extension": ".py",
   "mimetype": "text/x-python",
   "name": "python",
   "nbconvert_exporter": "python",
   "pygments_lexer": "ipython3",
   "version": "3.11.11"
  },
  "number_of_pagebreaks": 0
 },
 "nbformat": 4,
 "nbformat_minor": 4
}
